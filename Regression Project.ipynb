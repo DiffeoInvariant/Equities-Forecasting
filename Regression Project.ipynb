{
 "cells": [
  {
   "cell_type": "markdown",
   "metadata": {},
   "source": [
    "# The Factor Model\n",
    "## Factors:\n",
    "#### Market:\n",
    "S&P 500 returns\n",
    "#### HML:\n",
    "The premium of high-value (high market-to-book value ratio) over low-value stocks\n",
    "#### Volume:\n",
    "The amount of shares being traded. Maybe volume ratio? (i.e. volume/(total shares))"
   ]
  },
  {
   "cell_type": "code",
   "execution_count": 160,
   "metadata": {},
   "outputs": [],
   "source": [
    "library(xts)\n",
    "library(TTR)\n",
    "library(tidyquant)\n",
    "library(rvest)#for web scraping of symbols\n",
    "library(magrittr) #piping\n",
    "library(httr)#web scraping\n",
    "library(jsonlite)#api\n",
    "library(lubridate)\n",
    "library(lattice)\n",
    "library(timeSeries)#financial time series\n",
    "library(rugarch)\n",
    "library(forecast)\n",
    "library(betategarch)#for EGARCH\n",
    "library(mfGARCH)#multi-factor GARCH, incoporating short-term and long-term volatility\n",
    "library(curl)\n",
    "library(GAS)\n",
    "library(dplyr)\n",
    "library(zoo)"
   ]
  },
  {
   "cell_type": "code",
   "execution_count": 164,
   "metadata": {},
   "outputs": [],
   "source": [
    "#tidyquant data getting\n",
    "get_tq_sp500_data <- function(start, end, ...){\n",
    "    tickers <- list(...)\n",
    "    if(length(tickers) > 0){\n",
    "        data <- tibble(symbol = tickers) %>%\n",
    "                    mutate(stock.prices = map(.x = symbol, ~ tq_get(.x, get = \"stock.prices\", from = start, to = end)))\n",
    "    } else{\n",
    "        data <- tq_index(\"SP500\") %>% tq_get(get = \"stock.prices\", from = start, to = end)\n",
    "    }\n",
    "    return(data)\n",
    "}\n",
    "\n",
    "get_daily_returns <- function(start, end, returns, ...){\n",
    "    tickers <- list(...)\n",
    "    if(length(tickers) > 0){\n",
    "        data <- returns %>% group_by(symbol) %>% filter(symbol %in% tickers) %>% tq_transmute(select = adjusted, \n",
    "                                                           mutate_fun = periodReturn, \n",
    "                                                           period     = \"daily\", \n",
    "                                                           col_rename = \"daily.returns\") \n",
    "    } else{\n",
    "        data <- returns %>% group_by(symbol) %>% tq_transmute(select = adjusted, \n",
    "                                                           mutate_fun = periodReturn, \n",
    "                                                           period     = \"daily\", \n",
    "                                                           col_rename = \"daily.returns\") \n",
    "    }\n",
    "    return(data[-1,])\n",
    "}\n",
    "\n",
    "get_daily_log_returns <- function(start, end, returns){\n",
    "         log_returns <- returns %>% group_by(symbol) %>% tq_transmute(select = adjusted, \n",
    "                     mutate_fun = periodReturn, \n",
    "                     type       = \"log\", \n",
    "                     period     = \"daily\",\n",
    "                     col_rename = \"daily.log.ret\")\n",
    "    return(log_returns[-1,])\n",
    "}\n",
    "\n",
    "get_price_to_book <- function(start, end, ticker, ExPriceData){\n",
    "    data <- ticker %>% tq_get(get = \"key.ratios\", from = start, to = end)\n",
    "    pricebook_annual_df <-  data %>% \n",
    "                        dplyr::filter(section == \"Valuation Ratios\") %>% \n",
    "                        unnest() %>%\n",
    "                        dplyr::filter(category == \"Price to Book\")   \n",
    "    abv_dates <- pricebook_annual_df$date\n",
    "    #print(pricebook_annual_df$date)\n",
    "    abvd_prices_df <- ExPriceData %>% \n",
    "                            group_by(symbol) %>% \n",
    "                            dplyr::filter(symbol == ticker) %>%\n",
    "                            dplyr::filter(date %in% abv_dates)\n",
    "    #print(abvd_prices_df$'adjusted')\n",
    "    annual_book_val <- (1.0/pricebook_annual_df$value) %*% (abvd_prices_df$'adjusted')\n",
    "    pricebook <- (ExPriceData %>% group_by(symbol))$'adjusted'\n",
    "    for(i in 1:dim(ExPriceData)[1]){\n",
    "        pricebook[i] <- pricebook[i]/annual_book_val[i]\n",
    "    }\n",
    "    return(pricebook)\n",
    "}\n",
    "sign_log_abs <- function(x){\n",
    "    return( (sign(x)) * log(abs(x)))\n",
    "}\n",
    "ret_to_logret <- function(returns){\n",
    "    log_returns <- lapply(returns, sign_log_abs)\n",
    "    return(log_returns %>% as.vector() %>% na.omit())#as.vector(unlist(log_returns)))\n",
    "}"
   ]
  },
  {
   "cell_type": "code",
   "execution_count": 165,
   "metadata": {},
   "outputs": [],
   "source": [
    "get_simfin_id <- function(ticker){\n",
    "    #format 'https://simfin.com/api/v1/info/find-id/ticker/{ticker}?api-key={api_key}'\n",
    "    request_url_pt1 <- \"https://simfin.com/api/v1/info/find-id/ticker/\"\n",
    "    request_url_pt2 <- \"?api-key=Tnh5abVKzdE8Np4y7RQoO9ZFTdROoNaU\"\n",
    "    idstr <- paste(request_url_pt1, ticker , request_url_pt2,sep=\"\")\n",
    "    id <- fromJSON(idstr)\n",
    "    id <- id$simId\n",
    "    return(id)\n",
    "}\n",
    "\n",
    "\n",
    "get_simfin_id_vec <- function(tickers){\n",
    "    id <- rep(0,length(tickers)) # store simfin ID's \n",
    "    id <- lapply(tickers, get_simfin_id)\n",
    "    return(id$simId)\n",
    "}\n",
    "#fundamentals data through simfin\n",
    "\n",
    "get_simfin_TTM_BookPerShare <- function(simfin_id, year = \"TTM\"){\n",
    "    indicator <- '4-18'\n",
    "    finder_url <- \"https://simfin.com/api/v1/finder?api-key=Tnh5abVKzdE8Np4y7RQoO9ZFTdROoNaU\"\n",
    "    #'https://simfin.com/api/v1/companies/id/{sim_id}/statements/standardised?stype={statement_type}&fyear={year}&ptype={time_period}&api-key={api_key}'\n",
    "    #company_data_url1 <- \"https://simfin.com/api/v1/companies/id/\"\n",
    "    company_data_url2 <- \"/ratios/?fyear=\"\n",
    "    company_data_url3 <- \"&indicators=\"\n",
    "    company_data_url4 <- \"&period=Q1,Q2,Q3,Q4\"\n",
    "    company_data_url5 <- \"&api-key=Tnh5abVKzdE8Np4y7RQoO9ZFTdROoNaU\"\n",
    "\n",
    "    #time_len <- strtoi(end_yr) - strtoi(start_yr)\n",
    "    \n",
    "    #time_periods <- c(\"Q1\",\"Q2\",\"Q3\",\"Q4\")\n",
    "    #for now, only get start yr data until I can see what it looks like in R\n",
    "    url_tot <- paste(finder_url, simfin_id, company_data_url2,year, company_data_url3, indicator, company_data_url4,company_data_url5,sep=\"\")\n",
    "    print(url_tot)\n",
    "    statement <- url_tot %>% fromJSON()\n",
    "    return(statement)\n",
    "}\n"
   ]
  },
  {
   "cell_type": "code",
   "execution_count": 240,
   "metadata": {},
   "outputs": [],
   "source": [
    "#writes historical price data to OR project local repo\n",
    "write_historical_price_data <- function(start, end){\n",
    "    dir <- \"/Users/zanejakobs/Desktop/ORProj/Data/Historical/prices_2016.csv\"\n",
    "    sp500data <- get_tq_sp500_data(start,end) %>% group_by(symbol)\n",
    "    write.csv(sp500data, file=dir)\n",
    "}\n",
    "write_historical_market_data <- function(start,end){\n",
    "    dir <- \"/Users/zanejakobs/Desktop/ORProj/Data/Historical/market_2016.csv\"\n",
    "    market <- tq_get(\"SPY\", from = start, to = end)\n",
    "    write.csv(market, file=dir)\n",
    "}"
   ]
  },
  {
   "cell_type": "code",
   "execution_count": 325,
   "metadata": {},
   "outputs": [
    {
     "data": {
      "text/html": [
       "<table>\n",
       "<thead><tr><th scope=col>section</th><th scope=col>sub.section</th><th scope=col>group</th><th scope=col>category</th><th scope=col>date</th><th scope=col>value</th></tr></thead>\n",
       "<tbody>\n",
       "\t<tr><td>Valuation Ratios</td><td>Valuation Ratios</td><td>88              </td><td>Price to Book   </td><td>2009-12-31      </td><td>3.998731        </td></tr>\n",
       "\t<tr><td>Valuation Ratios</td><td>Valuation Ratios</td><td>88              </td><td>Price to Book   </td><td>2010-12-31      </td><td>4.124335        </td></tr>\n",
       "\t<tr><td>Valuation Ratios</td><td>Valuation Ratios</td><td>88              </td><td>Price to Book   </td><td>2011-12-30      </td><td>3.274984        </td></tr>\n",
       "\t<tr><td>Valuation Ratios</td><td>Valuation Ratios</td><td>88              </td><td>Price to Book   </td><td>2012-12-31      </td><td>3.176863        </td></tr>\n",
       "\t<tr><td>Valuation Ratios</td><td>Valuation Ratios</td><td>88              </td><td>Price to Book   </td><td>2013-12-31      </td><td>3.465282        </td></tr>\n",
       "\t<tr><td>Valuation Ratios</td><td>Valuation Ratios</td><td>88              </td><td>Price to Book   </td><td>2014-12-31      </td><td>4.971060        </td></tr>\n",
       "\t<tr><td>Valuation Ratios</td><td>Valuation Ratios</td><td>88              </td><td>Price to Book   </td><td>2015-12-31      </td><td>4.412521        </td></tr>\n",
       "\t<tr><td>Valuation Ratios</td><td>Valuation Ratios</td><td>88              </td><td>Price to Book   </td><td>2016-12-30      </td><td>4.716213        </td></tr>\n",
       "\t<tr><td>Valuation Ratios</td><td>Valuation Ratios</td><td>88              </td><td>Price to Book   </td><td>2017-12-29      </td><td>6.427213        </td></tr>\n",
       "\t<tr><td>Valuation Ratios</td><td>Valuation Ratios</td><td>88              </td><td>Price to Book   </td><td>2018-12-31      </td><td>6.498402        </td></tr>\n",
       "</tbody>\n",
       "</table>\n"
      ],
      "text/latex": [
       "\\begin{tabular}{r|llllll}\n",
       " section & sub.section & group & category & date & value\\\\\n",
       "\\hline\n",
       "\t Valuation Ratios & Valuation Ratios & 88               & Price to Book    & 2009-12-31       & 3.998731        \\\\\n",
       "\t Valuation Ratios & Valuation Ratios & 88               & Price to Book    & 2010-12-31       & 4.124335        \\\\\n",
       "\t Valuation Ratios & Valuation Ratios & 88               & Price to Book    & 2011-12-30       & 3.274984        \\\\\n",
       "\t Valuation Ratios & Valuation Ratios & 88               & Price to Book    & 2012-12-31       & 3.176863        \\\\\n",
       "\t Valuation Ratios & Valuation Ratios & 88               & Price to Book    & 2013-12-31       & 3.465282        \\\\\n",
       "\t Valuation Ratios & Valuation Ratios & 88               & Price to Book    & 2014-12-31       & 4.971060        \\\\\n",
       "\t Valuation Ratios & Valuation Ratios & 88               & Price to Book    & 2015-12-31       & 4.412521        \\\\\n",
       "\t Valuation Ratios & Valuation Ratios & 88               & Price to Book    & 2016-12-30       & 4.716213        \\\\\n",
       "\t Valuation Ratios & Valuation Ratios & 88               & Price to Book    & 2017-12-29       & 6.427213        \\\\\n",
       "\t Valuation Ratios & Valuation Ratios & 88               & Price to Book    & 2018-12-31       & 6.498402        \\\\\n",
       "\\end{tabular}\n"
      ],
      "text/markdown": [
       "\n",
       "| section | sub.section | group | category | date | value |\n",
       "|---|---|---|---|---|---|\n",
       "| Valuation Ratios | Valuation Ratios | 88               | Price to Book    | 2009-12-31       | 3.998731         |\n",
       "| Valuation Ratios | Valuation Ratios | 88               | Price to Book    | 2010-12-31       | 4.124335         |\n",
       "| Valuation Ratios | Valuation Ratios | 88               | Price to Book    | 2011-12-30       | 3.274984         |\n",
       "| Valuation Ratios | Valuation Ratios | 88               | Price to Book    | 2012-12-31       | 3.176863         |\n",
       "| Valuation Ratios | Valuation Ratios | 88               | Price to Book    | 2013-12-31       | 3.465282         |\n",
       "| Valuation Ratios | Valuation Ratios | 88               | Price to Book    | 2014-12-31       | 4.971060         |\n",
       "| Valuation Ratios | Valuation Ratios | 88               | Price to Book    | 2015-12-31       | 4.412521         |\n",
       "| Valuation Ratios | Valuation Ratios | 88               | Price to Book    | 2016-12-30       | 4.716213         |\n",
       "| Valuation Ratios | Valuation Ratios | 88               | Price to Book    | 2017-12-29       | 6.427213         |\n",
       "| Valuation Ratios | Valuation Ratios | 88               | Price to Book    | 2018-12-31       | 6.498402         |\n",
       "\n"
      ],
      "text/plain": [
       "   section          sub.section      group category      date       value   \n",
       "1  Valuation Ratios Valuation Ratios 88    Price to Book 2009-12-31 3.998731\n",
       "2  Valuation Ratios Valuation Ratios 88    Price to Book 2010-12-31 4.124335\n",
       "3  Valuation Ratios Valuation Ratios 88    Price to Book 2011-12-30 3.274984\n",
       "4  Valuation Ratios Valuation Ratios 88    Price to Book 2012-12-31 3.176863\n",
       "5  Valuation Ratios Valuation Ratios 88    Price to Book 2013-12-31 3.465282\n",
       "6  Valuation Ratios Valuation Ratios 88    Price to Book 2014-12-31 4.971060\n",
       "7  Valuation Ratios Valuation Ratios 88    Price to Book 2015-12-31 4.412521\n",
       "8  Valuation Ratios Valuation Ratios 88    Price to Book 2016-12-30 4.716213\n",
       "9  Valuation Ratios Valuation Ratios 88    Price to Book 2017-12-29 6.427213\n",
       "10 Valuation Ratios Valuation Ratios 88    Price to Book 2018-12-31 6.498402"
      ]
     },
     "metadata": {},
     "output_type": "display_data"
    }
   ],
   "source": [
    "#AAPL_ID <- get_simfin_id(\"AAPL\")\n",
    "#AAPL_PB <- get_simfin_TTM_BookPerShare(AAPL_ID, \"2018\")\n",
    "#AAPL_PB\n",
    "aapl_key_ratios <- tq_get(\"AAPL\", get = \"key.ratios\", period = \"daily\")\n",
    "gkr <- aapl_key_ratios %>% \n",
    "    dplyr::filter(section == \"Valuation Ratios\") %>% \n",
    "    unnest() %>%\n",
    "    dplyr::filter(category == \"Price to Book\") \n",
    "gkr"
   ]
  },
  {
   "cell_type": "code",
   "execution_count": 4,
   "metadata": {},
   "outputs": [
    {
     "name": "stderr",
     "output_type": "stream",
     "text": [
      "Getting holdings for SP500\n",
      "Warning message:\n",
      "“x = 'BRK.B', get = 'stock.prices': Error: BRK.B download failed after two attempts. Error message:\n",
      "HTTP error 404.\n",
      " Removing BRK.B.”Warning message:\n",
      "“x = 'TFCFA', get = 'stock.prices': Error: TFCFA download failed after two attempts. Error message:\n",
      "HTTP error 400.\n",
      " Removing TFCFA.”Warning message:\n",
      "“x = 'TFCF', get = 'stock.prices': Error: TFCF download failed after two attempts. Error message:\n",
      "HTTP error 400.\n",
      " Removing TFCF.”Warning message:\n",
      "“x = 'BF.B', get = 'stock.prices': Error: BF.B download failed after two attempts. Error message:\n",
      "HTTP error 404.\n",
      " Removing BF.B.”"
     ]
    },
    {
     "data": {
      "text/html": [
       "<table>\n",
       "<thead><tr><th scope=col>symbol</th><th scope=col>company</th><th scope=col>weight</th><th scope=col>sector</th><th scope=col>shares_held</th><th scope=col>date</th><th scope=col>open</th><th scope=col>high</th><th scope=col>low</th><th scope=col>close</th><th scope=col>volume</th><th scope=col>adjusted</th></tr></thead>\n",
       "<tbody>\n",
       "\t<tr><td>MSFT                  </td><td>Microsoft Corporation </td><td>0.03824539            </td><td>Information Technology</td><td>86246140              </td><td>2018-01-02            </td><td>86.13                 </td><td>86.31                 </td><td>85.50                 </td><td>85.95                 </td><td>22483800              </td><td>84.12813              </td></tr>\n",
       "\t<tr><td>MSFT                  </td><td>Microsoft Corporation </td><td>0.03824539            </td><td>Information Technology</td><td>86246140              </td><td>2018-01-03            </td><td>86.06                 </td><td>86.51                 </td><td>85.97                 </td><td>86.35                 </td><td>26061400              </td><td>84.51965              </td></tr>\n",
       "\t<tr><td>MSFT                  </td><td>Microsoft Corporation </td><td>0.03824539            </td><td>Information Technology</td><td>86246140              </td><td>2018-01-04            </td><td>86.59                 </td><td>87.66                 </td><td>86.57                 </td><td>87.11                 </td><td>21912000              </td><td>85.26354              </td></tr>\n",
       "\t<tr><td>MSFT                  </td><td>Microsoft Corporation </td><td>0.03824539            </td><td>Information Technology</td><td>86246140              </td><td>2018-01-05            </td><td>87.66                 </td><td>88.41                 </td><td>87.43                 </td><td>88.19                 </td><td>23407100              </td><td>86.32065              </td></tr>\n",
       "\t<tr><td>MSFT                  </td><td>Microsoft Corporation </td><td>0.03824539            </td><td>Information Technology</td><td>86246140              </td><td>2018-01-08            </td><td>88.20                 </td><td>88.58                 </td><td>87.60                 </td><td>88.28                 </td><td>22113000              </td><td>86.40874              </td></tr>\n",
       "\t<tr><td>MSFT                  </td><td>Microsoft Corporation </td><td>0.03824539            </td><td>Information Technology</td><td>86246140              </td><td>2018-01-09            </td><td>88.65                 </td><td>88.73                 </td><td>87.86                 </td><td>88.22                 </td><td>19484300              </td><td>86.35001              </td></tr>\n",
       "</tbody>\n",
       "</table>\n"
      ],
      "text/latex": [
       "\\begin{tabular}{r|llllllllllll}\n",
       " symbol & company & weight & sector & shares\\_held & date & open & high & low & close & volume & adjusted\\\\\n",
       "\\hline\n",
       "\t MSFT                   & Microsoft Corporation  & 0.03824539             & Information Technology & 86246140               & 2018-01-02             & 86.13                  & 86.31                  & 85.50                  & 85.95                  & 22483800               & 84.12813              \\\\\n",
       "\t MSFT                   & Microsoft Corporation  & 0.03824539             & Information Technology & 86246140               & 2018-01-03             & 86.06                  & 86.51                  & 85.97                  & 86.35                  & 26061400               & 84.51965              \\\\\n",
       "\t MSFT                   & Microsoft Corporation  & 0.03824539             & Information Technology & 86246140               & 2018-01-04             & 86.59                  & 87.66                  & 86.57                  & 87.11                  & 21912000               & 85.26354              \\\\\n",
       "\t MSFT                   & Microsoft Corporation  & 0.03824539             & Information Technology & 86246140               & 2018-01-05             & 87.66                  & 88.41                  & 87.43                  & 88.19                  & 23407100               & 86.32065              \\\\\n",
       "\t MSFT                   & Microsoft Corporation  & 0.03824539             & Information Technology & 86246140               & 2018-01-08             & 88.20                  & 88.58                  & 87.60                  & 88.28                  & 22113000               & 86.40874              \\\\\n",
       "\t MSFT                   & Microsoft Corporation  & 0.03824539             & Information Technology & 86246140               & 2018-01-09             & 88.65                  & 88.73                  & 87.86                  & 88.22                  & 19484300               & 86.35001              \\\\\n",
       "\\end{tabular}\n"
      ],
      "text/markdown": [
       "\n",
       "| symbol | company | weight | sector | shares_held | date | open | high | low | close | volume | adjusted |\n",
       "|---|---|---|---|---|---|---|---|---|---|---|---|\n",
       "| MSFT                   | Microsoft Corporation  | 0.03824539             | Information Technology | 86246140               | 2018-01-02             | 86.13                  | 86.31                  | 85.50                  | 85.95                  | 22483800               | 84.12813               |\n",
       "| MSFT                   | Microsoft Corporation  | 0.03824539             | Information Technology | 86246140               | 2018-01-03             | 86.06                  | 86.51                  | 85.97                  | 86.35                  | 26061400               | 84.51965               |\n",
       "| MSFT                   | Microsoft Corporation  | 0.03824539             | Information Technology | 86246140               | 2018-01-04             | 86.59                  | 87.66                  | 86.57                  | 87.11                  | 21912000               | 85.26354               |\n",
       "| MSFT                   | Microsoft Corporation  | 0.03824539             | Information Technology | 86246140               | 2018-01-05             | 87.66                  | 88.41                  | 87.43                  | 88.19                  | 23407100               | 86.32065               |\n",
       "| MSFT                   | Microsoft Corporation  | 0.03824539             | Information Technology | 86246140               | 2018-01-08             | 88.20                  | 88.58                  | 87.60                  | 88.28                  | 22113000               | 86.40874               |\n",
       "| MSFT                   | Microsoft Corporation  | 0.03824539             | Information Technology | 86246140               | 2018-01-09             | 88.65                  | 88.73                  | 87.86                  | 88.22                  | 19484300               | 86.35001               |\n",
       "\n"
      ],
      "text/plain": [
       "  symbol company               weight     sector                 shares_held\n",
       "1 MSFT   Microsoft Corporation 0.03824539 Information Technology 86246140   \n",
       "2 MSFT   Microsoft Corporation 0.03824539 Information Technology 86246140   \n",
       "3 MSFT   Microsoft Corporation 0.03824539 Information Technology 86246140   \n",
       "4 MSFT   Microsoft Corporation 0.03824539 Information Technology 86246140   \n",
       "5 MSFT   Microsoft Corporation 0.03824539 Information Technology 86246140   \n",
       "6 MSFT   Microsoft Corporation 0.03824539 Information Technology 86246140   \n",
       "  date       open  high  low   close volume   adjusted\n",
       "1 2018-01-02 86.13 86.31 85.50 85.95 22483800 84.12813\n",
       "2 2018-01-03 86.06 86.51 85.97 86.35 26061400 84.51965\n",
       "3 2018-01-04 86.59 87.66 86.57 87.11 21912000 85.26354\n",
       "4 2018-01-05 87.66 88.41 87.43 88.19 23407100 86.32065\n",
       "5 2018-01-08 88.20 88.58 87.60 88.28 22113000 86.40874\n",
       "6 2018-01-09 88.65 88.73 87.86 88.22 19484300 86.35001"
      ]
     },
     "metadata": {},
     "output_type": "display_data"
    }
   ],
   "source": [
    "sp2018 <- get_tq_sp500_data('2018-01-01','2018-12-31')\n",
    "head(sp2018)"
   ]
  },
  {
   "cell_type": "code",
   "execution_count": 324,
   "metadata": {},
   "outputs": [
    {
     "data": {
      "text/html": [
       "<table>\n",
       "<thead><tr><th scope=col>symbol</th><th scope=col>company</th><th scope=col>weight</th><th scope=col>sector</th><th scope=col>shares_held</th><th scope=col>date</th><th scope=col>open</th><th scope=col>high</th><th scope=col>low</th><th scope=col>close</th><th scope=col>volume</th><th scope=col>adjusted</th></tr></thead>\n",
       "<tbody>\n",
       "\t<tr><td>MSFT                  </td><td>Microsoft Corporation </td><td>0.03831607            </td><td>Information Technology</td><td>86145210              </td><td>2010-01-04            </td><td>30.62                 </td><td>31.10                 </td><td>30.59                 </td><td>30.95                 </td><td>38409100              </td><td>24.61580              </td></tr>\n",
       "\t<tr><td>MSFT                  </td><td>Microsoft Corporation </td><td>0.03831607            </td><td>Information Technology</td><td>86145210              </td><td>2010-01-05            </td><td>30.85                 </td><td>31.10                 </td><td>30.64                 </td><td>30.96                 </td><td>49749600              </td><td>24.62375              </td></tr>\n",
       "\t<tr><td>MSFT                  </td><td>Microsoft Corporation </td><td>0.03831607            </td><td>Information Technology</td><td>86145210              </td><td>2010-01-06            </td><td>30.88                 </td><td>31.08                 </td><td>30.52                 </td><td>30.77                 </td><td>58182400              </td><td>24.47263              </td></tr>\n",
       "\t<tr><td>MSFT                  </td><td>Microsoft Corporation </td><td>0.03831607            </td><td>Information Technology</td><td>86145210              </td><td>2010-01-07            </td><td>30.63                 </td><td>30.70                 </td><td>30.19                 </td><td>30.45                 </td><td>50559700              </td><td>24.21812              </td></tr>\n",
       "\t<tr><td>MSFT                  </td><td>Microsoft Corporation </td><td>0.03831607            </td><td>Information Technology</td><td>86145210              </td><td>2010-01-08            </td><td>30.28                 </td><td>30.88                 </td><td>30.24                 </td><td>30.66                 </td><td>51197400              </td><td>24.38515              </td></tr>\n",
       "\t<tr><td>MSFT                  </td><td>Microsoft Corporation </td><td>0.03831607            </td><td>Information Technology</td><td>86145210              </td><td>2010-01-11            </td><td>30.71                 </td><td>30.76                 </td><td>30.12                 </td><td>30.27                 </td><td>68754700              </td><td>24.07497              </td></tr>\n",
       "</tbody>\n",
       "</table>\n"
      ],
      "text/latex": [
       "\\begin{tabular}{r|llllllllllll}\n",
       " symbol & company & weight & sector & shares\\_held & date & open & high & low & close & volume & adjusted\\\\\n",
       "\\hline\n",
       "\t MSFT                   & Microsoft Corporation  & 0.03831607             & Information Technology & 86145210               & 2010-01-04             & 30.62                  & 31.10                  & 30.59                  & 30.95                  & 38409100               & 24.61580              \\\\\n",
       "\t MSFT                   & Microsoft Corporation  & 0.03831607             & Information Technology & 86145210               & 2010-01-05             & 30.85                  & 31.10                  & 30.64                  & 30.96                  & 49749600               & 24.62375              \\\\\n",
       "\t MSFT                   & Microsoft Corporation  & 0.03831607             & Information Technology & 86145210               & 2010-01-06             & 30.88                  & 31.08                  & 30.52                  & 30.77                  & 58182400               & 24.47263              \\\\\n",
       "\t MSFT                   & Microsoft Corporation  & 0.03831607             & Information Technology & 86145210               & 2010-01-07             & 30.63                  & 30.70                  & 30.19                  & 30.45                  & 50559700               & 24.21812              \\\\\n",
       "\t MSFT                   & Microsoft Corporation  & 0.03831607             & Information Technology & 86145210               & 2010-01-08             & 30.28                  & 30.88                  & 30.24                  & 30.66                  & 51197400               & 24.38515              \\\\\n",
       "\t MSFT                   & Microsoft Corporation  & 0.03831607             & Information Technology & 86145210               & 2010-01-11             & 30.71                  & 30.76                  & 30.12                  & 30.27                  & 68754700               & 24.07497              \\\\\n",
       "\\end{tabular}\n"
      ],
      "text/markdown": [
       "\n",
       "| symbol | company | weight | sector | shares_held | date | open | high | low | close | volume | adjusted |\n",
       "|---|---|---|---|---|---|---|---|---|---|---|---|\n",
       "| MSFT                   | Microsoft Corporation  | 0.03831607             | Information Technology | 86145210               | 2010-01-04             | 30.62                  | 31.10                  | 30.59                  | 30.95                  | 38409100               | 24.61580               |\n",
       "| MSFT                   | Microsoft Corporation  | 0.03831607             | Information Technology | 86145210               | 2010-01-05             | 30.85                  | 31.10                  | 30.64                  | 30.96                  | 49749600               | 24.62375               |\n",
       "| MSFT                   | Microsoft Corporation  | 0.03831607             | Information Technology | 86145210               | 2010-01-06             | 30.88                  | 31.08                  | 30.52                  | 30.77                  | 58182400               | 24.47263               |\n",
       "| MSFT                   | Microsoft Corporation  | 0.03831607             | Information Technology | 86145210               | 2010-01-07             | 30.63                  | 30.70                  | 30.19                  | 30.45                  | 50559700               | 24.21812               |\n",
       "| MSFT                   | Microsoft Corporation  | 0.03831607             | Information Technology | 86145210               | 2010-01-08             | 30.28                  | 30.88                  | 30.24                  | 30.66                  | 51197400               | 24.38515               |\n",
       "| MSFT                   | Microsoft Corporation  | 0.03831607             | Information Technology | 86145210               | 2010-01-11             | 30.71                  | 30.76                  | 30.12                  | 30.27                  | 68754700               | 24.07497               |\n",
       "\n"
      ],
      "text/plain": [
       "  symbol company               weight     sector                 shares_held\n",
       "1 MSFT   Microsoft Corporation 0.03831607 Information Technology 86145210   \n",
       "2 MSFT   Microsoft Corporation 0.03831607 Information Technology 86145210   \n",
       "3 MSFT   Microsoft Corporation 0.03831607 Information Technology 86145210   \n",
       "4 MSFT   Microsoft Corporation 0.03831607 Information Technology 86145210   \n",
       "5 MSFT   Microsoft Corporation 0.03831607 Information Technology 86145210   \n",
       "6 MSFT   Microsoft Corporation 0.03831607 Information Technology 86145210   \n",
       "  date       open  high  low   close volume   adjusted\n",
       "1 2010-01-04 30.62 31.10 30.59 30.95 38409100 24.61580\n",
       "2 2010-01-05 30.85 31.10 30.64 30.96 49749600 24.62375\n",
       "3 2010-01-06 30.88 31.08 30.52 30.77 58182400 24.47263\n",
       "4 2010-01-07 30.63 30.70 30.19 30.45 50559700 24.21812\n",
       "5 2010-01-08 30.28 30.88 30.24 30.66 51197400 24.38515\n",
       "6 2010-01-11 30.71 30.76 30.12 30.27 68754700 24.07497"
      ]
     },
     "metadata": {},
     "output_type": "display_data"
    }
   ],
   "source": [
    "#get the data!\n",
    "#sp1018 <- get_tq_sp500_data('2010-01-01','2018-12-31')\n",
    "head(sp1018)"
   ]
  },
  {
   "cell_type": "code",
   "execution_count": 8,
   "metadata": {},
   "outputs": [
    {
     "data": {
      "text/html": [
       "<table>\n",
       "<thead><tr><th scope=col>date</th><th scope=col>open</th><th scope=col>high</th><th scope=col>low</th><th scope=col>close</th><th scope=col>volume</th><th scope=col>adjusted</th></tr></thead>\n",
       "<tbody>\n",
       "\t<tr><td>2018-01-02</td><td>267.84    </td><td>268.81    </td><td>267.40    </td><td>268.77    </td><td>86655700  </td><td>262.6032  </td></tr>\n",
       "\t<tr><td>2018-01-03</td><td>268.96    </td><td>270.64    </td><td>268.96    </td><td>270.47    </td><td>90070400  </td><td>264.2642  </td></tr>\n",
       "\t<tr><td>2018-01-04</td><td>271.20    </td><td>272.16    </td><td>270.54    </td><td>271.61    </td><td>80636400  </td><td>265.3781  </td></tr>\n",
       "\t<tr><td>2018-01-05</td><td>272.51    </td><td>273.56    </td><td>271.95    </td><td>273.42    </td><td>83524000  </td><td>267.1465  </td></tr>\n",
       "\t<tr><td>2018-01-08</td><td>273.31    </td><td>274.10    </td><td>272.98    </td><td>273.92    </td><td>57319200  </td><td>267.6351  </td></tr>\n",
       "\t<tr><td>2018-01-09</td><td>274.40    </td><td>275.25    </td><td>274.08    </td><td>274.54    </td><td>57254000  </td><td>268.2409  </td></tr>\n",
       "</tbody>\n",
       "</table>\n"
      ],
      "text/latex": [
       "\\begin{tabular}{r|lllllll}\n",
       " date & open & high & low & close & volume & adjusted\\\\\n",
       "\\hline\n",
       "\t 2018-01-02 & 267.84     & 268.81     & 267.40     & 268.77     & 86655700   & 262.6032  \\\\\n",
       "\t 2018-01-03 & 268.96     & 270.64     & 268.96     & 270.47     & 90070400   & 264.2642  \\\\\n",
       "\t 2018-01-04 & 271.20     & 272.16     & 270.54     & 271.61     & 80636400   & 265.3781  \\\\\n",
       "\t 2018-01-05 & 272.51     & 273.56     & 271.95     & 273.42     & 83524000   & 267.1465  \\\\\n",
       "\t 2018-01-08 & 273.31     & 274.10     & 272.98     & 273.92     & 57319200   & 267.6351  \\\\\n",
       "\t 2018-01-09 & 274.40     & 275.25     & 274.08     & 274.54     & 57254000   & 268.2409  \\\\\n",
       "\\end{tabular}\n"
      ],
      "text/markdown": [
       "\n",
       "| date | open | high | low | close | volume | adjusted |\n",
       "|---|---|---|---|---|---|---|\n",
       "| 2018-01-02 | 267.84     | 268.81     | 267.40     | 268.77     | 86655700   | 262.6032   |\n",
       "| 2018-01-03 | 268.96     | 270.64     | 268.96     | 270.47     | 90070400   | 264.2642   |\n",
       "| 2018-01-04 | 271.20     | 272.16     | 270.54     | 271.61     | 80636400   | 265.3781   |\n",
       "| 2018-01-05 | 272.51     | 273.56     | 271.95     | 273.42     | 83524000   | 267.1465   |\n",
       "| 2018-01-08 | 273.31     | 274.10     | 272.98     | 273.92     | 57319200   | 267.6351   |\n",
       "| 2018-01-09 | 274.40     | 275.25     | 274.08     | 274.54     | 57254000   | 268.2409   |\n",
       "\n"
      ],
      "text/plain": [
       "  date       open   high   low    close  volume   adjusted\n",
       "1 2018-01-02 267.84 268.81 267.40 268.77 86655700 262.6032\n",
       "2 2018-01-03 268.96 270.64 268.96 270.47 90070400 264.2642\n",
       "3 2018-01-04 271.20 272.16 270.54 271.61 80636400 265.3781\n",
       "4 2018-01-05 272.51 273.56 271.95 273.42 83524000 267.1465\n",
       "5 2018-01-08 273.31 274.10 272.98 273.92 57319200 267.6351\n",
       "6 2018-01-09 274.40 275.25 274.08 274.54 57254000 268.2409"
      ]
     },
     "metadata": {},
     "output_type": "display_data"
    }
   ],
   "source": [
    "market18 <- tq_get(\"SPY\", from = '2018-01-01', to = '2018-12-31')\n",
    "head(market18)"
   ]
  },
  {
   "cell_type": "code",
   "execution_count": 226,
   "metadata": {},
   "outputs": [
    {
     "name": "stderr",
     "output_type": "stream",
     "text": [
      "Getting holdings for SP500\n",
      "Warning message:\n",
      "“x = 'BRK.B', get = 'stock.prices': Error: BRK.B download failed after two attempts. Error message:\n",
      "HTTP error 404.\n",
      " Removing BRK.B.”Warning message:\n",
      "“x = 'BF.B', get = 'stock.prices': Error: BF.B download failed after two attempts. Error message:\n",
      "HTTP error 404.\n",
      " Removing BF.B.”"
     ]
    },
    {
     "data": {
      "text/html": [
       "<table>\n",
       "<thead><tr><th scope=col>symbol</th><th scope=col>company</th><th scope=col>weight</th><th scope=col>sector</th><th scope=col>shares_held</th><th scope=col>date</th><th scope=col>open</th><th scope=col>high</th><th scope=col>low</th><th scope=col>close</th><th scope=col>volume</th><th scope=col>adjusted</th></tr></thead>\n",
       "<tbody>\n",
       "\t<tr><td>MSFT                  </td><td>Microsoft Corporation </td><td>0.03824539            </td><td>Information Technology</td><td>86246140              </td><td>2018-01-02            </td><td>86.13                 </td><td>86.31                 </td><td>85.50                 </td><td>85.95                 </td><td>22483800              </td><td>84.12813              </td></tr>\n",
       "\t<tr><td>MSFT                  </td><td>Microsoft Corporation </td><td>0.03824539            </td><td>Information Technology</td><td>86246140              </td><td>2018-01-03            </td><td>86.06                 </td><td>86.51                 </td><td>85.97                 </td><td>86.35                 </td><td>26061400              </td><td>84.51965              </td></tr>\n",
       "\t<tr><td>MSFT                  </td><td>Microsoft Corporation </td><td>0.03824539            </td><td>Information Technology</td><td>86246140              </td><td>2018-01-04            </td><td>86.59                 </td><td>87.66                 </td><td>86.57                 </td><td>87.11                 </td><td>21912000              </td><td>85.26354              </td></tr>\n",
       "\t<tr><td>MSFT                  </td><td>Microsoft Corporation </td><td>0.03824539            </td><td>Information Technology</td><td>86246140              </td><td>2018-01-05            </td><td>87.66                 </td><td>88.41                 </td><td>87.43                 </td><td>88.19                 </td><td>23407100              </td><td>86.32065              </td></tr>\n",
       "\t<tr><td>MSFT                  </td><td>Microsoft Corporation </td><td>0.03824539            </td><td>Information Technology</td><td>86246140              </td><td>2018-01-08            </td><td>88.20                 </td><td>88.58                 </td><td>87.60                 </td><td>88.28                 </td><td>22113000              </td><td>86.40874              </td></tr>\n",
       "\t<tr><td>MSFT                  </td><td>Microsoft Corporation </td><td>0.03824539            </td><td>Information Technology</td><td>86246140              </td><td>2018-01-09            </td><td>88.65                 </td><td>88.73                 </td><td>87.86                 </td><td>88.22                 </td><td>19484300              </td><td>86.35001              </td></tr>\n",
       "</tbody>\n",
       "</table>\n"
      ],
      "text/latex": [
       "\\begin{tabular}{r|llllllllllll}\n",
       " symbol & company & weight & sector & shares\\_held & date & open & high & low & close & volume & adjusted\\\\\n",
       "\\hline\n",
       "\t MSFT                   & Microsoft Corporation  & 0.03824539             & Information Technology & 86246140               & 2018-01-02             & 86.13                  & 86.31                  & 85.50                  & 85.95                  & 22483800               & 84.12813              \\\\\n",
       "\t MSFT                   & Microsoft Corporation  & 0.03824539             & Information Technology & 86246140               & 2018-01-03             & 86.06                  & 86.51                  & 85.97                  & 86.35                  & 26061400               & 84.51965              \\\\\n",
       "\t MSFT                   & Microsoft Corporation  & 0.03824539             & Information Technology & 86246140               & 2018-01-04             & 86.59                  & 87.66                  & 86.57                  & 87.11                  & 21912000               & 85.26354              \\\\\n",
       "\t MSFT                   & Microsoft Corporation  & 0.03824539             & Information Technology & 86246140               & 2018-01-05             & 87.66                  & 88.41                  & 87.43                  & 88.19                  & 23407100               & 86.32065              \\\\\n",
       "\t MSFT                   & Microsoft Corporation  & 0.03824539             & Information Technology & 86246140               & 2018-01-08             & 88.20                  & 88.58                  & 87.60                  & 88.28                  & 22113000               & 86.40874              \\\\\n",
       "\t MSFT                   & Microsoft Corporation  & 0.03824539             & Information Technology & 86246140               & 2018-01-09             & 88.65                  & 88.73                  & 87.86                  & 88.22                  & 19484300               & 86.35001              \\\\\n",
       "\\end{tabular}\n"
      ],
      "text/markdown": [
       "\n",
       "| symbol | company | weight | sector | shares_held | date | open | high | low | close | volume | adjusted |\n",
       "|---|---|---|---|---|---|---|---|---|---|---|---|\n",
       "| MSFT                   | Microsoft Corporation  | 0.03824539             | Information Technology | 86246140               | 2018-01-02             | 86.13                  | 86.31                  | 85.50                  | 85.95                  | 22483800               | 84.12813               |\n",
       "| MSFT                   | Microsoft Corporation  | 0.03824539             | Information Technology | 86246140               | 2018-01-03             | 86.06                  | 86.51                  | 85.97                  | 86.35                  | 26061400               | 84.51965               |\n",
       "| MSFT                   | Microsoft Corporation  | 0.03824539             | Information Technology | 86246140               | 2018-01-04             | 86.59                  | 87.66                  | 86.57                  | 87.11                  | 21912000               | 85.26354               |\n",
       "| MSFT                   | Microsoft Corporation  | 0.03824539             | Information Technology | 86246140               | 2018-01-05             | 87.66                  | 88.41                  | 87.43                  | 88.19                  | 23407100               | 86.32065               |\n",
       "| MSFT                   | Microsoft Corporation  | 0.03824539             | Information Technology | 86246140               | 2018-01-08             | 88.20                  | 88.58                  | 87.60                  | 88.28                  | 22113000               | 86.40874               |\n",
       "| MSFT                   | Microsoft Corporation  | 0.03824539             | Information Technology | 86246140               | 2018-01-09             | 88.65                  | 88.73                  | 87.86                  | 88.22                  | 19484300               | 86.35001               |\n",
       "\n"
      ],
      "text/plain": [
       "  symbol company               weight     sector                 shares_held\n",
       "1 MSFT   Microsoft Corporation 0.03824539 Information Technology 86246140   \n",
       "2 MSFT   Microsoft Corporation 0.03824539 Information Technology 86246140   \n",
       "3 MSFT   Microsoft Corporation 0.03824539 Information Technology 86246140   \n",
       "4 MSFT   Microsoft Corporation 0.03824539 Information Technology 86246140   \n",
       "5 MSFT   Microsoft Corporation 0.03824539 Information Technology 86246140   \n",
       "6 MSFT   Microsoft Corporation 0.03824539 Information Technology 86246140   \n",
       "  date       open  high  low   close volume   adjusted\n",
       "1 2018-01-02 86.13 86.31 85.50 85.95 22483800 84.12813\n",
       "2 2018-01-03 86.06 86.51 85.97 86.35 26061400 84.51965\n",
       "3 2018-01-04 86.59 87.66 86.57 87.11 21912000 85.26354\n",
       "4 2018-01-05 87.66 88.41 87.43 88.19 23407100 86.32065\n",
       "5 2018-01-08 88.20 88.58 87.60 88.28 22113000 86.40874\n",
       "6 2018-01-09 88.65 88.73 87.86 88.22 19484300 86.35001"
      ]
     },
     "metadata": {},
     "output_type": "display_data"
    }
   ],
   "source": [
    "sp2019 <- get_tq_sp500_data('2019-01-01','2019-03-20')\n",
    "head(sp2018)"
   ]
  },
  {
   "cell_type": "code",
   "execution_count": 256,
   "metadata": {},
   "outputs": [
    {
     "data": {
      "text/html": [
       "<table>\n",
       "<thead><tr><th scope=col>symbol</th><th scope=col>company</th><th scope=col>weight</th><th scope=col>sector</th><th scope=col>shares_held</th><th scope=col>date</th><th scope=col>open</th><th scope=col>high</th><th scope=col>low</th><th scope=col>close</th><th scope=col>volume</th><th scope=col>adjusted</th></tr></thead>\n",
       "<tbody>\n",
       "\t<tr><td>NWS                     </td><td>News Corporation Class B</td><td>6.038766e-05            </td><td>Communication Services  </td><td>1265386                 </td><td>2019-03-12              </td><td>13.25                   </td><td>13.33                   </td><td>13.03                   </td><td>13.06                   </td><td> 662700                 </td><td>13.06                   </td></tr>\n",
       "\t<tr><td>NWS                     </td><td>News Corporation Class B</td><td>6.038766e-05            </td><td>Communication Services  </td><td>1265386                 </td><td>2019-03-13              </td><td>13.13                   </td><td>13.13                   </td><td>12.92                   </td><td>12.96                   </td><td> 435400                 </td><td>12.96                   </td></tr>\n",
       "\t<tr><td>NWS                     </td><td>News Corporation Class B</td><td>6.038766e-05            </td><td>Communication Services  </td><td>1265386                 </td><td>2019-03-14              </td><td>12.95                   </td><td>12.98                   </td><td>12.78                   </td><td>12.78                   </td><td>1030800                 </td><td>12.78                   </td></tr>\n",
       "\t<tr><td>NWS                     </td><td>News Corporation Class B</td><td>6.038766e-05            </td><td>Communication Services  </td><td>1265386                 </td><td>2019-03-15              </td><td>12.82                   </td><td>12.88                   </td><td>12.69                   </td><td>12.74                   </td><td>2386600                 </td><td>12.74                   </td></tr>\n",
       "\t<tr><td>NWS                     </td><td>News Corporation Class B</td><td>6.038766e-05            </td><td>Communication Services  </td><td>1265386                 </td><td>2019-03-18              </td><td>12.75                   </td><td>12.91                   </td><td>12.71                   </td><td>12.73                   </td><td>1331800                 </td><td>12.73                   </td></tr>\n",
       "\t<tr><td>NWS                     </td><td>News Corporation Class B</td><td>6.038766e-05            </td><td>Communication Services  </td><td>1265386                 </td><td>2019-03-19              </td><td>12.75                   </td><td>12.81                   </td><td>12.57                   </td><td>12.62                   </td><td>1406500                 </td><td>12.62                   </td></tr>\n",
       "</tbody>\n",
       "</table>\n"
      ],
      "text/latex": [
       "\\begin{tabular}{r|llllllllllll}\n",
       " symbol & company & weight & sector & shares\\_held & date & open & high & low & close & volume & adjusted\\\\\n",
       "\\hline\n",
       "\t NWS                      & News Corporation Class B & 6.038766e-05             & Communication Services   & 1265386                  & 2019-03-12               & 13.25                    & 13.33                    & 13.03                    & 13.06                    &  662700                  & 13.06                   \\\\\n",
       "\t NWS                      & News Corporation Class B & 6.038766e-05             & Communication Services   & 1265386                  & 2019-03-13               & 13.13                    & 13.13                    & 12.92                    & 12.96                    &  435400                  & 12.96                   \\\\\n",
       "\t NWS                      & News Corporation Class B & 6.038766e-05             & Communication Services   & 1265386                  & 2019-03-14               & 12.95                    & 12.98                    & 12.78                    & 12.78                    & 1030800                  & 12.78                   \\\\\n",
       "\t NWS                      & News Corporation Class B & 6.038766e-05             & Communication Services   & 1265386                  & 2019-03-15               & 12.82                    & 12.88                    & 12.69                    & 12.74                    & 2386600                  & 12.74                   \\\\\n",
       "\t NWS                      & News Corporation Class B & 6.038766e-05             & Communication Services   & 1265386                  & 2019-03-18               & 12.75                    & 12.91                    & 12.71                    & 12.73                    & 1331800                  & 12.73                   \\\\\n",
       "\t NWS                      & News Corporation Class B & 6.038766e-05             & Communication Services   & 1265386                  & 2019-03-19               & 12.75                    & 12.81                    & 12.57                    & 12.62                    & 1406500                  & 12.62                   \\\\\n",
       "\\end{tabular}\n"
      ],
      "text/markdown": [
       "\n",
       "| symbol | company | weight | sector | shares_held | date | open | high | low | close | volume | adjusted |\n",
       "|---|---|---|---|---|---|---|---|---|---|---|---|\n",
       "| NWS                      | News Corporation Class B | 6.038766e-05             | Communication Services   | 1265386                  | 2019-03-12               | 13.25                    | 13.33                    | 13.03                    | 13.06                    |  662700                  | 13.06                    |\n",
       "| NWS                      | News Corporation Class B | 6.038766e-05             | Communication Services   | 1265386                  | 2019-03-13               | 13.13                    | 13.13                    | 12.92                    | 12.96                    |  435400                  | 12.96                    |\n",
       "| NWS                      | News Corporation Class B | 6.038766e-05             | Communication Services   | 1265386                  | 2019-03-14               | 12.95                    | 12.98                    | 12.78                    | 12.78                    | 1030800                  | 12.78                    |\n",
       "| NWS                      | News Corporation Class B | 6.038766e-05             | Communication Services   | 1265386                  | 2019-03-15               | 12.82                    | 12.88                    | 12.69                    | 12.74                    | 2386600                  | 12.74                    |\n",
       "| NWS                      | News Corporation Class B | 6.038766e-05             | Communication Services   | 1265386                  | 2019-03-18               | 12.75                    | 12.91                    | 12.71                    | 12.73                    | 1331800                  | 12.73                    |\n",
       "| NWS                      | News Corporation Class B | 6.038766e-05             | Communication Services   | 1265386                  | 2019-03-19               | 12.75                    | 12.81                    | 12.57                    | 12.62                    | 1406500                  | 12.62                    |\n",
       "\n"
      ],
      "text/plain": [
       "  symbol company                  weight       sector                \n",
       "1 NWS    News Corporation Class B 6.038766e-05 Communication Services\n",
       "2 NWS    News Corporation Class B 6.038766e-05 Communication Services\n",
       "3 NWS    News Corporation Class B 6.038766e-05 Communication Services\n",
       "4 NWS    News Corporation Class B 6.038766e-05 Communication Services\n",
       "5 NWS    News Corporation Class B 6.038766e-05 Communication Services\n",
       "6 NWS    News Corporation Class B 6.038766e-05 Communication Services\n",
       "  shares_held date       open  high  low   close volume  adjusted\n",
       "1 1265386     2019-03-12 13.25 13.33 13.03 13.06  662700 13.06   \n",
       "2 1265386     2019-03-13 13.13 13.13 12.92 12.96  435400 12.96   \n",
       "3 1265386     2019-03-14 12.95 12.98 12.78 12.78 1030800 12.78   \n",
       "4 1265386     2019-03-15 12.82 12.88 12.69 12.74 2386600 12.74   \n",
       "5 1265386     2019-03-18 12.75 12.91 12.71 12.73 1331800 12.73   \n",
       "6 1265386     2019-03-19 12.75 12.81 12.57 12.62 1406500 12.62   "
      ]
     },
     "metadata": {},
     "output_type": "display_data"
    }
   ],
   "source": [
    "#market1018 <- tq_get(\"SPY\",from='2010-01-01',to='2018-12-31')\n",
    "#market1018\n",
    "tail(sp2019)"
   ]
  },
  {
   "cell_type": "code",
   "execution_count": 269,
   "metadata": {},
   "outputs": [
    {
     "data": {
      "text/html": [
       "53"
      ],
      "text/latex": [
       "53"
      ],
      "text/markdown": [
       "53"
      ],
      "text/plain": [
       "[1] 53"
      ]
     },
     "metadata": {},
     "output_type": "display_data"
    }
   ],
   "source": [
    "AAPL19 <- dplyr::filter(sp2019,symbol == 'AAPL')\n",
    "NKE19 <- dplyr::filter(sp2019,symbol == 'NKE')\n",
    "\n",
    "length(as.vector(market19$'volume'))"
   ]
  },
  {
   "cell_type": "markdown",
   "metadata": {},
   "source": [
    "## Parameters\n",
    "#### Window\n",
    "Window length: how many (trading) days should we consider at any given time for the model?"
   ]
  },
  {
   "cell_type": "code",
   "execution_count": 185,
   "metadata": {},
   "outputs": [
    {
     "data": {
      "text/html": [
       "<table>\n",
       "<thead><tr><th scope=col>symbol</th><th scope=col>company</th><th scope=col>weight</th><th scope=col>sector</th><th scope=col>shares_held</th><th scope=col>date</th><th scope=col>open</th><th scope=col>high</th><th scope=col>low</th><th scope=col>close</th><th scope=col>volume</th><th scope=col>adjusted</th></tr></thead>\n",
       "<tbody>\n",
       "\t<tr><td>MSFT                  </td><td>Microsoft Corporation </td><td>0.03831607            </td><td>Information Technology</td><td>86145210              </td><td>2010-01-04            </td><td>30.62                 </td><td>31.10                 </td><td>30.59                 </td><td>30.95                 </td><td>38409100              </td><td>24.61580              </td></tr>\n",
       "\t<tr><td>MSFT                  </td><td>Microsoft Corporation </td><td>0.03831607            </td><td>Information Technology</td><td>86145210              </td><td>2010-01-05            </td><td>30.85                 </td><td>31.10                 </td><td>30.64                 </td><td>30.96                 </td><td>49749600              </td><td>24.62375              </td></tr>\n",
       "\t<tr><td>MSFT                  </td><td>Microsoft Corporation </td><td>0.03831607            </td><td>Information Technology</td><td>86145210              </td><td>2010-01-06            </td><td>30.88                 </td><td>31.08                 </td><td>30.52                 </td><td>30.77                 </td><td>58182400              </td><td>24.47263              </td></tr>\n",
       "\t<tr><td>MSFT                  </td><td>Microsoft Corporation </td><td>0.03831607            </td><td>Information Technology</td><td>86145210              </td><td>2010-01-07            </td><td>30.63                 </td><td>30.70                 </td><td>30.19                 </td><td>30.45                 </td><td>50559700              </td><td>24.21812              </td></tr>\n",
       "\t<tr><td>MSFT                  </td><td>Microsoft Corporation </td><td>0.03831607            </td><td>Information Technology</td><td>86145210              </td><td>2010-01-08            </td><td>30.28                 </td><td>30.88                 </td><td>30.24                 </td><td>30.66                 </td><td>51197400              </td><td>24.38515              </td></tr>\n",
       "\t<tr><td>MSFT                  </td><td>Microsoft Corporation </td><td>0.03831607            </td><td>Information Technology</td><td>86145210              </td><td>2010-01-11            </td><td>30.71                 </td><td>30.76                 </td><td>30.12                 </td><td>30.27                 </td><td>68754700              </td><td>24.07497              </td></tr>\n",
       "</tbody>\n",
       "</table>\n"
      ],
      "text/latex": [
       "\\begin{tabular}{r|llllllllllll}\n",
       " symbol & company & weight & sector & shares\\_held & date & open & high & low & close & volume & adjusted\\\\\n",
       "\\hline\n",
       "\t MSFT                   & Microsoft Corporation  & 0.03831607             & Information Technology & 86145210               & 2010-01-04             & 30.62                  & 31.10                  & 30.59                  & 30.95                  & 38409100               & 24.61580              \\\\\n",
       "\t MSFT                   & Microsoft Corporation  & 0.03831607             & Information Technology & 86145210               & 2010-01-05             & 30.85                  & 31.10                  & 30.64                  & 30.96                  & 49749600               & 24.62375              \\\\\n",
       "\t MSFT                   & Microsoft Corporation  & 0.03831607             & Information Technology & 86145210               & 2010-01-06             & 30.88                  & 31.08                  & 30.52                  & 30.77                  & 58182400               & 24.47263              \\\\\n",
       "\t MSFT                   & Microsoft Corporation  & 0.03831607             & Information Technology & 86145210               & 2010-01-07             & 30.63                  & 30.70                  & 30.19                  & 30.45                  & 50559700               & 24.21812              \\\\\n",
       "\t MSFT                   & Microsoft Corporation  & 0.03831607             & Information Technology & 86145210               & 2010-01-08             & 30.28                  & 30.88                  & 30.24                  & 30.66                  & 51197400               & 24.38515              \\\\\n",
       "\t MSFT                   & Microsoft Corporation  & 0.03831607             & Information Technology & 86145210               & 2010-01-11             & 30.71                  & 30.76                  & 30.12                  & 30.27                  & 68754700               & 24.07497              \\\\\n",
       "\\end{tabular}\n"
      ],
      "text/markdown": [
       "\n",
       "| symbol | company | weight | sector | shares_held | date | open | high | low | close | volume | adjusted |\n",
       "|---|---|---|---|---|---|---|---|---|---|---|---|\n",
       "| MSFT                   | Microsoft Corporation  | 0.03831607             | Information Technology | 86145210               | 2010-01-04             | 30.62                  | 31.10                  | 30.59                  | 30.95                  | 38409100               | 24.61580               |\n",
       "| MSFT                   | Microsoft Corporation  | 0.03831607             | Information Technology | 86145210               | 2010-01-05             | 30.85                  | 31.10                  | 30.64                  | 30.96                  | 49749600               | 24.62375               |\n",
       "| MSFT                   | Microsoft Corporation  | 0.03831607             | Information Technology | 86145210               | 2010-01-06             | 30.88                  | 31.08                  | 30.52                  | 30.77                  | 58182400               | 24.47263               |\n",
       "| MSFT                   | Microsoft Corporation  | 0.03831607             | Information Technology | 86145210               | 2010-01-07             | 30.63                  | 30.70                  | 30.19                  | 30.45                  | 50559700               | 24.21812               |\n",
       "| MSFT                   | Microsoft Corporation  | 0.03831607             | Information Technology | 86145210               | 2010-01-08             | 30.28                  | 30.88                  | 30.24                  | 30.66                  | 51197400               | 24.38515               |\n",
       "| MSFT                   | Microsoft Corporation  | 0.03831607             | Information Technology | 86145210               | 2010-01-11             | 30.71                  | 30.76                  | 30.12                  | 30.27                  | 68754700               | 24.07497               |\n",
       "\n"
      ],
      "text/plain": [
       "  symbol company               weight     sector                 shares_held\n",
       "1 MSFT   Microsoft Corporation 0.03831607 Information Technology 86145210   \n",
       "2 MSFT   Microsoft Corporation 0.03831607 Information Technology 86145210   \n",
       "3 MSFT   Microsoft Corporation 0.03831607 Information Technology 86145210   \n",
       "4 MSFT   Microsoft Corporation 0.03831607 Information Technology 86145210   \n",
       "5 MSFT   Microsoft Corporation 0.03831607 Information Technology 86145210   \n",
       "6 MSFT   Microsoft Corporation 0.03831607 Information Technology 86145210   \n",
       "  date       open  high  low   close volume   adjusted\n",
       "1 2010-01-04 30.62 31.10 30.59 30.95 38409100 24.61580\n",
       "2 2010-01-05 30.85 31.10 30.64 30.96 49749600 24.62375\n",
       "3 2010-01-06 30.88 31.08 30.52 30.77 58182400 24.47263\n",
       "4 2010-01-07 30.63 30.70 30.19 30.45 50559700 24.21812\n",
       "5 2010-01-08 30.28 30.88 30.24 30.66 51197400 24.38515\n",
       "6 2010-01-11 30.71 30.76 30.12 30.27 68754700 24.07497"
      ]
     },
     "metadata": {},
     "output_type": "display_data"
    }
   ],
   "source": [
    "#forecast information\n",
    "window_length = 500\n",
    "sp1018 <- get_tq_sp500_data('2010-01-01','2018-12-31')\n",
    "head(sp1018)"
   ]
  },
  {
   "cell_type": "markdown",
   "metadata": {},
   "source": [
    "## Model Selection\n",
    "#### ARIMA order selection\n",
    "We want to select the p,d, and q in \"ARIMA(p,d,q).\" That is, we want to first find the order of integration of the returns series, then compute the order of the autoregressive and moving average terms of the mean estimation model.\n",
    "#### Model selection criterion\n",
    "For now, we will use the AICc to select ARIMA models. If overfitting becomes a realistic concern, other penalized log-likelihood metrics will be considered. An ideal metric might be minimum description length (MDL), but computation may be infeasible in realistic time.\n",
    "\n"
   ]
  },
  {
   "cell_type": "code",
   "execution_count": 298,
   "metadata": {},
   "outputs": [],
   "source": [
    "make_ARIMA_exog <- function(ticker,stock_data, market_data){\n",
    "    stock <- dplyr::filter(stock_data,symbol == ticker)\n",
    "\n",
    "    SV <- as.vector(stock$'volume')\n",
    "\n",
    "    market_volume <- as.vector(market_data$volume)\n",
    "    \n",
    "    market_price <- as.vector(market_data$adjusted)\n",
    "\n",
    "    #factors of 10^(-floor(log10(SV[1])) + 1), 10^(-floor(log10(market_volume[1])) + 1), and 0.1\n",
    "    #are because volume is generally much, much larger than price, so this takes everything to about \n",
    "    #the same order of magnitude, to greatly reduce numerical errors\n",
    "    return(cbind(SV*10^(-floor(log10(mean(SV))) +1),market_volume*10^(-floor(log10(mean(market_volume)) ) +1), market_price*0.1 ) )\n",
    "}\n",
    "make_ARIMA_price <- function(ticker, stock_data){\n",
    "    stock <- dplyr::filter(stock_data,symbol == ticker)\n",
    "    #price <- as.vector(na.omit(lag(zoo(stock$'adjusted'),1)))\n",
    "    #print(head(price))\n",
    "    return(stock$'adjusted')\n",
    "}"
   ]
  },
  {
   "cell_type": "code",
   "execution_count": 299,
   "metadata": {},
   "outputs": [],
   "source": [
    "#exog must be a matrix, as does price\n",
    "ARIMA_fit <- function(price, exog){\n",
    "    #d = 1 implies that we difference once (that is, use the returns instead of price). Turns out fractional differencing\n",
    "    #probably isn't a great idea, and it will slow down the model fitting process\n",
    "    #see https://www.researchgate.net/publication/24070756_Long_range_dependence_in_daily_stock_returns\n",
    "    #lambda = 0 is the Box-Cox parameter, indicating we want to take the log\n",
    "    model <- auto.arima(price,d=1, max.p = 10, max.q = 10, start.p = 3, start.q = 3, ic = \"bic\",lambda = 0, xreg = exog)\n",
    "    return(model)\n",
    "}"
   ]
  },
  {
   "cell_type": "code",
   "execution_count": 300,
   "metadata": {},
   "outputs": [],
   "source": [
    "#makes an \n",
    "make_ARIMA_forecast <- function(ticker, tr_stock_data, tr_market_data,  pred_stock_data, pred_market_data){\n",
    "    tr_price <- make_ARIMA_price(ticker, tr_stock_data)\n",
    "    tr_exog <- make_ARIMA_exog(ticker, tr_stock_data, tr_market_data)\n",
    "    pred_exog <- make_ARIMA_exog(ticker, pred_stock_data, pred_market_data)\n",
    "    model <- ARIMA_fit(tr_price, tr_exog)\n",
    "    return(forecast(model, xreg = pred_exog))\n",
    "}"
   ]
  },
  {
   "cell_type": "code",
   "execution_count": 301,
   "metadata": {},
   "outputs": [],
   "source": [
    "make_ARIMAX <- function(ticker, tr_stock_data, tr_market_data){\n",
    "    tr_price <- make_ARIMA_price(ticker, tr_stock_data)\n",
    "    tr_exog <- make_ARIMA_exog(ticker, tr_stock_data, tr_market_data)\n",
    "    model <- ARIMA_fit(tr_price, tr_exog)\n",
    "    return(model)\n",
    "} "
   ]
  },
  {
   "cell_type": "code",
   "execution_count": 302,
   "metadata": {},
   "outputs": [],
   "source": [
    "write_mean_price_forecast_YTD <- function(stock_prices_tr, market_tr, stock_data_pred, market_pred){\n",
    "    symbols <- stock_prices_tr$'symbol'\n",
    "    tickers <- unique(symbols)\n",
    "    dir <- \"/Users/zanejakobs/Desktop/ORProj/Data/Forecasts/2019_YTD_mean_price_forecast_\"\n",
    "    for(t in tickers){    \n",
    "        print(t)\n",
    "        try({\n",
    "        fcast <- make_ARIMA_forecast(t, stock_prices_tr, market_tr, stock_data_pred, market_pred)\n",
    "        write.csv(fcast, file = paste(dir,t,\".csv\", sep=\"\"))})\n",
    "    }\n",
    "}"
   ]
  },
  {
   "cell_type": "code",
   "execution_count": 303,
   "metadata": {
    "scrolled": true
   },
   "outputs": [
    {
     "name": "stdout",
     "output_type": "stream",
     "text": [
      "\n",
      "Forecast method: Regression with ARIMA(0,1,0) errors\n",
      "\n",
      "Model Information:\n",
      "Series: price \n",
      "Regression with ARIMA(0,1,0) errors \n",
      "Box Cox transformation: lambda= 0 \n",
      "\n",
      "Coefficients:\n"
     ]
    },
    {
     "name": "stderr",
     "output_type": "stream",
     "text": [
      "Warning message in sqrt(diag(x$var.coef)):\n",
      "“NaNs produced”"
     ]
    },
    {
     "name": "stdout",
     "output_type": "stream",
     "text": [
      "       xreg1  xreg2   xreg3\n",
      "      -2e-04  1e-04  0.0494\n",
      "s.e.   1e-04  0e+00     NaN\n",
      "\n",
      "sigma^2 estimated as 0.0001424:  log likelihood=750.89\n",
      "AIC=-1493.78   AICc=-1493.61   BIC=-1479.71\n",
      "\n",
      "Error measures:\n",
      "                        ME     RMSE      MAE          MPE      MAPE      MASE\n",
      "Training set -0.0001308583 2.248547 1.559396 -0.007241046 0.8277054 0.6435772\n",
      "                  ACF1\n",
      "Training set 0.1758923\n",
      "\n",
      "Forecasts:\n",
      "    Point Forecast    Lo 80    Hi 80    Lo 95    Hi 95\n",
      "251       157.3717 154.9830 159.7973 153.7332 161.0964\n",
      "252       151.4786 148.2372 154.7909 146.5495 156.5735\n",
      "253       158.6036 154.4570 162.8615 152.3060 165.1616\n",
      "254       159.9534 155.1344 164.9220 152.6425 167.6144\n",
      "255       162.2360 156.7812 167.8807 153.9682 170.9478\n",
      "256       163.0152 157.0207 169.2384 153.9372 172.6284\n",
      "257       164.0336 157.5281 170.8078 154.1895 174.5063\n",
      "258       164.1812 157.2300 171.4398 153.6702 175.4113\n",
      "259       162.7297 155.4315 170.3706 151.7015 174.5596\n",
      "260       165.3349 157.5283 173.5283 153.5461 178.0287\n",
      "261       165.7293 157.5318 174.3533 153.3577 179.0989\n",
      "262       167.5278 158.8826 176.6435 154.4881 181.6681\n",
      "263       170.5872 161.4344 180.2589 156.7897 185.5988\n",
      "264       167.5922 158.2702 177.4631 153.5473 182.9217\n",
      "265       168.0142 158.3504 178.2677 153.4618 183.9465\n",
      "266       167.8335 157.8731 178.4223 152.8420 184.2955\n",
      "267       169.7593 159.3843 180.8098 154.1512 186.9478\n",
      "268       168.2078 157.6391 179.4851 152.3159 185.7578\n",
      "269       167.2934 156.5035 178.8270 151.0764 185.2511\n",
      "270       170.3880 159.1228 182.4507 153.4640 189.1783\n",
      "271       173.0960 161.3789 185.6639 155.5008 192.6822\n",
      "272       173.2975 161.3004 186.1868 155.2895 193.3936\n",
      "273       174.7392 162.3804 188.0387 156.1959 195.4840\n",
      "274       175.7427 163.0554 189.4171 156.7142 197.0816\n",
      "275       175.4911 162.5706 189.4385 156.1206 197.2651\n",
      "276       173.4790 160.4635 187.5503 153.9735 195.4555\n",
      "277       173.8342 160.5533 188.2137 153.9386 196.3012\n",
      "278       173.9822 160.4558 188.6489 153.7264 196.9070\n",
      "279       176.9800 162.9869 192.1746 156.0330 200.7392\n",
      "280       177.6866 163.4073 193.2136 156.3189 201.9751\n",
      "281       177.3358 162.8590 193.0994 155.6802 202.0037\n",
      "282       179.9964 165.0773 196.2637 157.6869 205.4621\n",
      "283       180.2588 165.0964 196.8138 157.5932 206.1843\n",
      "284       180.6841 165.2674 197.5389 157.6461 207.0888\n",
      "285       179.9799 164.4090 197.0254 156.7193 206.6928\n",
      "286       181.5806 165.6585 199.0331 157.8031 208.9409\n",
      "287       181.7407 165.5948 199.4608 157.6367 209.5303\n",
      "288       181.6065 165.2660 199.5627 157.2198 209.7760\n",
      "289       181.1514 164.6488 199.3081 156.5304 209.6451\n",
      "290       180.7892 164.1198 199.1517 155.9270 209.6156\n",
      "291       182.5059 165.4792 201.2845 157.1185 211.9953\n",
      "292       181.7957 164.6397 200.7395 156.2233 211.5542\n",
      "293       181.2733 163.9741 200.3976 155.4952 211.3250\n",
      "294       179.8839 162.5287 199.0923 154.0299 210.0775\n",
      "295       177.8959 160.5484 197.1179 152.0608 208.1204\n",
      "296       177.3598 159.8832 196.7468 151.3399 207.8533\n",
      "297       180.4158 162.4558 200.3614 153.6838 211.7977\n",
      "298       181.4674 163.2214 201.7530 154.3174 213.3940\n",
      "299       183.1805 164.5815 203.8814 155.5129 215.7706\n",
      "300       183.1414 164.3676 204.0596 155.2214 216.0835\n",
      "301       184.0148 164.9738 205.2535 155.7051 217.4716\n",
      "302       185.1894 165.8500 206.7839 156.4439 219.2168\n",
      "303       185.3357 165.8059 207.1658 156.3149 219.7443\n"
     ]
    }
   ],
   "source": [
    "#example: testing Apple, with forecasts in 2019 only\n",
    "#market1018 <- tq_get(\"SPY\", from = '2010-01-01', to = '2018-12-31')\n",
    "market19 <- tq_get(\"SPY\",from= '2019-01-01',to='2019-03-20')\n",
    "fcast_AAPL <- make_ARIMA_forecast('AAPL',sp2018,market18, sp2019, market19)\n",
    "summary(fcast_AAPL)"
   ]
  },
  {
   "cell_type": "code",
   "execution_count": 304,
   "metadata": {
    "scrolled": false
   },
   "outputs": [
    {
     "data": {
      "image/png": "[encoded data removed]",
      "text/plain": [
       "Plot with title “Forecasts from Regression with ARIMA(0,1,0) errors”"
      ]
     },
     "metadata": {},
     "output_type": "display_data"
    }
   ],
   "source": [
    "plot(fcast_AAPL)"
   ]
  },
  {
   "cell_type": "code",
   "execution_count": 307,
   "metadata": {},
   "outputs": [
    {
     "name": "stdout",
     "output_type": "stream",
     "text": [
      "\n",
      "Forecast method: Regression with ARIMA(0,1,0) errors\n",
      "\n",
      "Model Information:\n",
      "Series: price \n",
      "Regression with ARIMA(0,1,0) errors \n",
      "Box Cox transformation: lambda= 0 \n",
      "\n",
      "Coefficients:\n"
     ]
    },
    {
     "name": "stderr",
     "output_type": "stream",
     "text": [
      "Warning message in sqrt(diag(x$var.coef)):\n",
      "“NaNs produced”"
     ]
    },
    {
     "name": "stdout",
     "output_type": "stream",
     "text": [
      "      xreg1   xreg2   xreg3\n",
      "      2e-04  -1e-04  0.0392\n",
      "s.e.  0e+00   1e-04     NaN\n",
      "\n",
      "sigma^2 estimated as 0.0001805:  log likelihood=721.39\n",
      "AIC=-1434.78   AICc=-1434.62   BIC=-1420.71\n",
      "\n",
      "Error measures:\n",
      "                    ME      RMSE      MAE        MPE     MAPE      MASE\n",
      "Training set 0.0617066 0.9685835 0.692289 0.08125369 0.957202 0.7673281\n",
      "                  ACF1\n",
      "Training set -0.184903\n",
      "\n",
      "Forecasts:\n",
      "    Point Forecast    Lo 80    Hi 80    Lo 95     Hi 95\n",
      "251       74.02368 72.76012 75.30919 72.09998  75.99870\n",
      "252       72.39223 70.65087 74.17651 69.74606  75.13879\n",
      "253       74.72579 72.53031 76.98774 71.39432  78.21272\n",
      "254       75.51674 72.96065 78.16238 71.64275  79.60022\n",
      "255       76.30177 73.42009 79.29656 71.93895  80.92919\n",
      "256       76.66576 73.49976 79.96813 71.87706  81.77350\n",
      "257       77.24198 73.80238 80.84188 72.04401  82.81498\n",
      "258       77.31634 73.64145 81.17461 71.76733  83.29439\n",
      "259       76.24785 72.40954 80.28962 70.45650  82.51523\n",
      "260       77.13297 73.04573 81.44891 70.97049  83.83055\n",
      "261       77.29282 73.00285 81.83488 70.82912  84.34637\n",
      "262       78.06192 73.54229 82.85930 71.25666  85.51710\n",
      "263       79.32418 74.54969 84.40443 72.13969  87.22417\n",
      "264       78.07472 73.20370 83.26986 70.74939  86.15851\n",
      "265       78.00726 72.97526 83.38624 70.44424  86.38226\n",
      "266       78.03617 72.84284 83.59977 70.23506  86.70377\n",
      "267       78.51364 73.13336 84.28974 70.43610  87.51750\n",
      "268       78.06985 72.57047 83.98597 69.81787  87.29716\n",
      "269       77.89338 72.26165 83.96403 69.44714  87.36687\n",
      "270       79.17931 73.31153 85.51673 70.38345  89.07438\n",
      "271       80.28629 74.19527 86.87735 71.16023  90.58274\n",
      "272       79.99817 73.79187 86.72645 70.70380  90.51433\n",
      "273       80.56504 74.18000 87.49966 71.00744  91.40909\n",
      "274       81.13358 74.57094 88.27376 71.31458  92.30451\n",
      "275       80.75070 74.09006 88.01014 70.78949  92.11362\n",
      "276       79.91306 73.19661 87.24580 69.87276  91.39609\n",
      "277       79.97334 73.12943 87.45775 69.74685  91.69927\n",
      "278       80.35590 73.35872 88.02049 69.90476  92.36954\n",
      "279       81.45124 74.23886 89.36430 70.68310  93.85983\n",
      "280       81.60437 74.26064 89.67433 70.64454  94.26452\n",
      "281       81.34674 73.91090 89.53068 70.25382  94.19121\n",
      "282       82.35766 74.71471 90.78244 70.96023  95.58571\n",
      "283       82.55783 74.78330 91.14062 70.96861  96.03958\n",
      "284       82.83055 74.91882 91.57780 71.04126  96.57627\n",
      "285       82.84930 74.82603 91.73287 70.89824  96.81490\n",
      "286       82.79928 74.67288 91.81005 70.69904  96.97049\n",
      "287       83.19835 74.92595 92.38410 70.88515  97.65044\n",
      "288       83.24978 74.86694 92.57125 70.77663  97.92110\n",
      "289       82.93604 74.48138 92.35041 70.36044  97.75928\n",
      "290       82.76260 74.22389 92.28361 70.06637  97.75942\n",
      "291       83.45566 74.74427 93.18236 70.50710  98.78222\n",
      "292       83.12930 74.35255 92.94209 70.08799  98.59722\n",
      "293       82.91841 74.06605 92.82880 69.76913  98.54591\n",
      "294       82.06871 73.21145 91.99755 68.91648  97.73097\n",
      "295       81.38288 72.50600 91.34655 68.20581  97.10571\n",
      "296       81.29490 72.33524 91.36432 67.99922  97.19024\n",
      "297       82.57559 73.38209 92.92088 68.93723  98.91214\n",
      "298       82.90274 73.58085 93.40562 69.07826  99.49389\n",
      "299       83.57844 74.08893 94.28339 69.50975 100.49461\n",
      "300       83.69648 74.10285 94.53215 69.47779 100.82505\n",
      "301       84.76938 74.96190 95.86001 70.23817 102.30689\n",
      "302       84.76005 74.86379 95.96451 70.10171 102.48347\n",
      "303       84.50083 74.54622 95.78475 69.76045 102.35587\n"
     ]
    }
   ],
   "source": [
    "#example: testing Nike, with forecasts in 2019 only\n",
    "#market1018 <- tq_get(\"SPY\", from = '2010-01-01', to = '2018-12-31')\n",
    "#market19 <- tq_get(\"SPY\",from= '2019-01-01',to='2019-03-15')\n",
    "fcast_NKE <- make_ARIMA_forecast('NKE',sp2018,market18, sp2019, market19)\n",
    "summary(fcast_NKE)"
   ]
  },
  {
   "cell_type": "code",
   "execution_count": 308,
   "metadata": {},
   "outputs": [
    {
     "data": {
      "image/png": "[encoded data removed]",
      "text/plain": [
       "Plot with title “Forecasts from Regression with ARIMA(0,1,0) errors”"
      ]
     },
     "metadata": {},
     "output_type": "display_data"
    }
   ],
   "source": [
    "plot(fcast_NKE)"
   ]
  },
  {
   "cell_type": "markdown",
   "metadata": {},
   "source": [
    "## Modeling the Variance\n",
    "#### EGARCH/GARCH-MIDAS\n",
    "Starting with 1-component eGARCH model, which is somewhat similar to GARCH-MIDAS. Going to transition to GARCH-MIDAS, which is a variant on the traditional econometric GARCH(1,1)/occasional GARCH(2,2) model in which there is a component modeling short-term volatility, and one for longer-term volatility"
   ]
  },
  {
   "cell_type": "code",
   "execution_count": 313,
   "metadata": {},
   "outputs": [],
   "source": [
    "ARIMA_order <- function(arima_mod){\n",
    "    armals <- arima_mod$arma\n",
    "    d <- arima_mod$arma[length(arima_mod$arma)-1]\n",
    "    ar <-arima_mod$arma[1]\n",
    "    ma <- arima_mod$arma[2]\n",
    "    order <- c(ar,d,ma)\n",
    "    return(order)\n",
    "}"
   ]
  },
  {
   "cell_type": "code",
   "execution_count": 323,
   "metadata": {},
   "outputs": [],
   "source": [
    "#exog must be a matrix!\n",
    "EGARCH_fit <-function(arima_model, log_returns, exog){\n",
    "    \n",
    "    arima_order <- ARIMA_order(arima_model)\n",
    "\n",
    "    model_specs <- ugarchspec(variance.model = list(model = \"eGARCH\", garchOrder = c(1, 1), \n",
    "    submodel = NULL, external.regressors = NULL, variance.targeting = TRUE), \n",
    "    mean.model = list(armaOrder = c(arima_order[0], arima_order[3]), include.mean = TRUE, archm = TRUE, \n",
    "    archpow = 1, arfima = FALSE, external.regressors = exog))\n",
    "    \n",
    "    fit_model <-tryCatch(\n",
    "        ugarchfit(model_specs, log_returns, solver = 'hybrid'),\n",
    "        error=function(e) e, warning=function(w) w)\n",
    "    \n",
    "    return(fit_model)\n",
    "}\n",
    "EGARCH_fitted_series <- function(egarch_model){\n",
    "    return(fitted(egarch_model))\n",
    "}"
   ]
  },
  {
   "cell_type": "code",
   "execution_count": 315,
   "metadata": {},
   "outputs": [
    {
     "data": {
      "text/plain": [
       "\n",
       "*---------------------------------*\n",
       "*          GARCH Model Fit        *\n",
       "*---------------------------------*\n",
       "\n",
       "Conditional Variance Dynamics \t\n",
       "-----------------------------------\n",
       "GARCH Model\t: eGARCH(1,1)\n",
       "Mean Model\t: ARFIMA(0,0,1)\n",
       "Distribution\t: norm \n",
       "\n",
       "Optimal Parameters\n",
       "------------------------------------\n",
       "         Estimate  Std. Error    t value Pr(>|t|)\n",
       "mu     -56.089088    0.159970 -350.62193 0.000000\n",
       "ma1      0.868301    0.008590  101.07952 0.000000\n",
       "mxreg1  -0.000972    0.001023   -0.95031 0.341956\n",
       "mxreg2   0.027946    0.006397    4.36827 0.000013\n",
       "mxreg3   8.529915    0.012875  662.49555 0.000000\n",
       "alpha1   0.017518    0.016373    1.06988 0.284673\n",
       "beta1    0.976674    0.006434  151.79065 0.000000\n",
       "gamma1   0.721609    0.059523   12.12318 0.000000\n",
       "omega    0.087746          NA         NA       NA\n",
       "\n",
       "Robust Standard Errors:\n",
       "         Estimate  Std. Error    t value Pr(>|t|)\n",
       "mu     -56.089088    0.317903 -176.43480 0.000000\n",
       "ma1      0.868301    0.014049   61.80454 0.000000\n",
       "mxreg1  -0.000972    0.001969   -0.49371 0.621512\n",
       "mxreg2   0.027946    0.007547    3.70266 0.000213\n",
       "mxreg3   8.529915    0.044098  193.43254 0.000000\n",
       "alpha1   0.017518    0.014167    1.23653 0.216263\n",
       "beta1    0.976674    0.007637  127.89090 0.000000\n",
       "gamma1   0.721609    0.067356   10.71344 0.000000\n",
       "omega    0.087746          NA         NA       NA\n",
       "\n",
       "LogLikelihood : -6503.069 \n",
       "\n",
       "Information Criteria\n",
       "------------------------------------\n",
       "                   \n",
       "Akaike       5.7544\n",
       "Bayes        5.7746\n",
       "Shibata      5.7543\n",
       "Hannan-Quinn 5.7618\n",
       "\n",
       "Weighted Ljung-Box Test on Standardized Residuals\n",
       "------------------------------------\n",
       "                        statistic p-value\n",
       "Lag[1]                      871.5       0\n",
       "Lag[2*(p+q)+(p+q)-1][2]    1706.3       0\n",
       "Lag[4*(p+q)+(p+q)-1][5]    3457.1       0\n",
       "d.o.f=1\n",
       "H0 : No serial correlation\n",
       "\n",
       "Weighted Ljung-Box Test on Standardized Squared Residuals\n",
       "------------------------------------\n",
       "                        statistic   p-value\n",
       "Lag[1]                      50.58 1.147e-12\n",
       "Lag[2*(p+q)+(p+q)-1][5]    245.57 0.000e+00\n",
       "Lag[4*(p+q)+(p+q)-1][9]    296.88 0.000e+00\n",
       "d.o.f=2\n",
       "\n",
       "Weighted ARCH LM Tests\n",
       "------------------------------------\n",
       "            Statistic Shape Scale  P-Value\n",
       "ARCH Lag[3]     38.70 0.500 2.000 4.93e-10\n",
       "ARCH Lag[5]     96.15 1.440 1.667 0.00e+00\n",
       "ARCH Lag[7]    107.80 2.315 1.543 0.00e+00\n",
       "\n",
       "Nyblom stability test\n",
       "------------------------------------\n",
       "Joint Statistic:  5.6024\n",
       "Individual Statistics:              \n",
       "mu     0.68463\n",
       "ma1    0.40780\n",
       "mxreg1 0.35534\n",
       "mxreg2 0.37169\n",
       "mxreg3 1.18968\n",
       "alpha1 1.28343\n",
       "beta1  1.03840\n",
       "gamma1 0.07584\n",
       "\n",
       "Asymptotic Critical Values (10% 5% 1%)\n",
       "Joint Statistic:     \t 1.89 2.11 2.59\n",
       "Individual Statistic:\t 0.35 0.47 0.75\n",
       "\n",
       "Sign Bias Test\n",
       "------------------------------------\n",
       "                   t-value      prob sig\n",
       "Sign Bias            1.698 8.971e-02   *\n",
       "Negative Sign Bias   4.052 5.240e-05 ***\n",
       "Positive Sign Bias   3.633 2.865e-04 ***\n",
       "Joint Effect        32.643 3.830e-07 ***\n",
       "\n",
       "\n",
       "Adjusted Pearson Goodness-of-Fit Test:\n",
       "------------------------------------\n",
       "  group statistic p-value(g-1)\n",
       "1    20      1606            0\n",
       "2    30      1679            0\n",
       "3    40      1729            0\n",
       "4    50      1758            0\n",
       "\n",
       "\n",
       "Elapsed time : 0.5788021 \n"
      ]
     },
     "metadata": {},
     "output_type": "display_data"
    }
   ],
   "source": [
    "exg <- make_ARIMA_exog('AAPL', sp1018, market1018)\n",
    "#diff_market_ret <- diff(exg[,3])\n",
    "#print(diff_market_ret)\n",
    "#newexg <- exg[1:length(diff_market_ret),]\n",
    "#print(dim(newexg))\n",
    "#newexg[,3] <- diff_market_ret\n",
    "amod <- make_ARIMAX('AAPL',sp1018,market1018)\n",
    "ams <- ugarchspec(variance.model = list(model = \"eGARCH\", garchOrder = c(1, 1), \n",
    "    submodel = NULL, external.regressors = NULL, variance.targeting = TRUE), \n",
    "    mean.model = list(armaOrder = ARIMA_order(amod), include.mean = TRUE, archm = FALSE, \n",
    "    archpow = 1, arfima = FALSE, external.regressors = exg))\n",
    "afit_model <-tryCatch(\n",
    "        ugarchfit(ams, make_ARIMA_price('AAPL', sp1018), solver = 'hybrid'),\n",
    "        error=function(e) e, warning=function(w) w)\n",
    "#appl_egmod_spec <-  EGARCH_fit(amod, ts(resid(amod)), exg)\n",
    "afit_model #it'll say the AIC is 3.5395, but it's actually (2k-2LogLik) = 7997.6"
   ]
  },
  {
   "cell_type": "markdown",
   "metadata": {},
   "source": [
    "## A Better Variance Model\n",
    "https://www.sciencedirect.com/science/article/abs/pii/S1544612318308067\n",
    "\n",
    "Or also a GAS model instead of the immediate GARCH family."
   ]
  },
  {
   "cell_type": "code",
   "execution_count": 316,
   "metadata": {},
   "outputs": [],
   "source": [
    "make_GAS_model <- function(arimax_model){\n",
    "    GAS_spec <- UniGASSpec(Dist = \"ast\", ScalingType=\"Identity\",\n",
    "                 GASPar = list(location = FALSE, scale = TRUE,skewness = TRUE, shape = TRUE,shape2 = TRUE))\n",
    "    model <- UniGASFit(GAS_spec, (10^(3))*resid(arimax_model))\n",
    "    return(model)\n",
    "}\n"
   ]
  },
  {
   "cell_type": "code",
   "execution_count": 318,
   "metadata": {
    "scrolled": true
   },
   "outputs": [
    {
     "name": "stdout",
     "output_type": "stream",
     "text": [
      "Series: price \n",
      "Regression with ARIMA(0,1,0) errors \n",
      "Box Cox transformation: lambda= 0 \n",
      "\n",
      "Coefficients:\n",
      "      xreg1   xreg2   xreg3\n",
      "          0  -2e-04  0.0517\n",
      "s.e.      0   1e-04  0.0000\n",
      "\n",
      "sigma^2 estimated as 0.0001574:  log likelihood=6695.4\n",
      "AIC=-13382.81   AICc=-13382.79   BIC=-13359.91\n",
      "\n",
      "Training set error measures:\n",
      "                     ME      RMSE       MAE        MPE      MAPE      MASE\n",
      "Training set 0.01407049 0.5659319 0.3284553 0.03691755 0.8206757 0.8031891\n",
      "                    ACF1\n",
      "Training set -0.08640618\n"
     ]
    }
   ],
   "source": [
    "market1018 <- tq_get(\"SPY\", from = '2010-01-01', to = '2018-12-31')\n",
    "market19 <- tq_get(\"SPY\",from= '2019-01-01',to='2019-03-15')\n",
    "mm_NKE <- make_ARIMAX('NKE',sp1018,market1018)\n",
    "summary(mm_NKE)"
   ]
  },
  {
   "cell_type": "code",
   "execution_count": 319,
   "metadata": {},
   "outputs": [
    {
     "data": {
      "text/plain": [
       "\n",
       "------------------------------------------\n",
       "-          Univariate GAS Fit            -\n",
       "------------------------------------------\n",
       "\n",
       "Model Specification:\t\n",
       "T =  2263\n",
       "Conditional distribution:  ast\n",
       "Score scaling type:  Identity\n",
       "Time varying parameters:  scale, skewness, shape, shape2\n",
       "------------------------------------------\n",
       "Estimates:\n",
       "            Estimate   Std. Error       t value     Pr(>|t|)\n",
       "kappa1  3.323318e-01 3.706868e-01  8.965300e-01 1.849849e-01\n",
       "kappa2  3.253029e-02 2.027311e-02  1.604603e+00 5.429058e-02\n",
       "kappa3 -3.136473e-03 1.354438e-02 -2.315701e-01 4.084360e-01\n",
       "kappa4 -3.456290e-01 2.317111e-06 -1.491637e+05 0.000000e+00\n",
       "kappa5 -4.657787e+00 8.717250e-07 -5.343184e+06 0.000000e+00\n",
       "a2      2.455331e-02 6.043837e-03  4.062536e+00 2.427119e-05\n",
       "a3      1.424591e-05 1.156085e-10  1.232255e+05 0.000000e+00\n",
       "a4      5.499492e+00 2.870310e-08  1.915992e+08 0.000000e+00\n",
       "a5      1.897475e-01 0.000000e+00           Inf 0.000000e+00\n",
       "b2      9.892858e-01 6.647256e-03  1.488262e+02 0.000000e+00\n",
       "b3      7.652096e-01 3.738899e-05  2.046617e+04 0.000000e+00\n",
       "b4      9.817372e-01 1.343620e-08  7.306660e+07 0.000000e+00\n",
       "b5      7.594917e-01 6.447244e-07  1.178010e+06 0.000000e+00\n",
       "\n",
       "------------------------------------------\n",
       "Unconditional Parameters:\n",
       "  location      scale   skewness      shape     shape2 \n",
       " 0.3323318 20.8255623  0.4967272  4.0000003  4.0000002 \n",
       "\n",
       "------------------------------------------\n",
       "Information Criteria:\n",
       "      AIC       BIC        np       llk \n",
       "17040.097 17114.515    13.000 -8507.049 \n",
       "\n",
       "------------------------------------------\n",
       "Convergence:\t0\n",
       "------------------------------------------\n",
       "\n",
       "Elapsed time: 0.33 mins"
      ]
     },
     "metadata": {},
     "output_type": "display_data"
    }
   ],
   "source": [
    "NKE_GAS_spec <- UniGASSpec(Dist = \"ast\", ScalingType=\"Identity\",\n",
    "                 GASPar = list(location = FALSE, scale = TRUE,skewness = TRUE, shape = TRUE,shape2 = TRUE))\n",
    "NKE_model <- UniGASFit(NKE_GAS_spec, (10^(3))*resid(mm_NKE))\n",
    "NKE_model"
   ]
  },
  {
   "cell_type": "code",
   "execution_count": 320,
   "metadata": {},
   "outputs": [
    {
     "data": {
      "text/plain": [
       "\n",
       "------------------------------------------\n",
       "-        Univariate GAS Forecast         -\n",
       "------------------------------------------\n",
       "\n",
       "Model Specification\n",
       "Conditional distribution:  ast\n",
       "Score scaling type:  Identity\n",
       "Horizon:  20\n",
       "Rolling forecast:  FALSE\n",
       "------------------------------------------\n",
       "Parameters forecast:\n",
       "     location    scale  skewness    shape   shape2\n",
       "T+1 0.3323318 28.01330 0.4967261 4.000000 4.000000\n",
       "T+2 0.3323318 27.99105 0.4973144 4.000000 4.000006\n",
       "T+3 0.3323318 27.89491 0.4977645 4.000001 4.000090\n",
       "T+4 0.3323318 27.88177 0.4981090 4.000001 4.000694\n",
       "T+5 0.3323318 27.83159 0.4983725 4.000001 4.003269\n",
       "\n",
       "....................\n",
       "      location    scale  skewness    shape   shape2\n",
       "T+16 0.3323318 27.49560 0.4991862 4.000025 4.339911\n",
       "T+17 0.3323318 27.51343 0.4991967 4.000032 4.359319\n",
       "T+18 0.3323318 27.50180 0.4992049 4.000041 4.374786\n",
       "T+19 0.3323318 27.45460 0.4992110 4.000053 4.386845\n",
       "T+20 0.3323318 27.47249 0.4992159 4.000067 4.396223"
      ]
     },
     "metadata": {},
     "output_type": "display_data"
    }
   ],
   "source": [
    "NKE_GAS_fcast <- UniGASFor(NKE_model, H = 20)\n",
    "NKE_GAS_fcast"
   ]
  },
  {
   "cell_type": "markdown",
   "metadata": {},
   "source": [
    "refs:\n",
    "https://www.sciencedirect.com/science/article/pii/S037842661830181X"
   ]
  }
 ],
 "metadata": {
  "kernelspec": {
   "display_name": "R",
   "language": "R",
   "name": "ir"
  },
  "language_info": {
   "codemirror_mode": "r",
   "file_extension": ".r",
   "mimetype": "text/x-r-source",
   "name": "R",
   "pygments_lexer": "r",
   "version": "3.5.1"
  }
 },
 "nbformat": 4,
 "nbformat_minor": 2
}
